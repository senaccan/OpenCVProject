{
 "cells": [
  {
   "cell_type": "code",
   "execution_count": 1,
   "id": "b17cb320-f4a6-4435-9c8f-8b4d77254dae",
   "metadata": {},
   "outputs": [],
   "source": [
    "import cv2\n",
    "import numpy as np"
   ]
  },
  {
   "cell_type": "markdown",
   "id": "c811f102-c39e-4dd1-ae2e-fb61dc818461",
   "metadata": {},
   "source": [
    "##  CREATING A BLANK WHITE CANVAS - BOŞ BEYAZ BİR TUVAL OLUŞTURMA"
   ]
  },
  {
   "cell_type": "code",
   "execution_count": 2,
   "id": "726bee84-f4a9-4037-9556-35148d6a7412",
   "metadata": {},
   "outputs": [],
   "source": [
    "canvas = np.ones((400, 400, 3), dtype=\"uint8\") * 255"
   ]
  },
  {
   "cell_type": "markdown",
   "id": "e0edd28c-9c2d-4e38-bcc1-20c3e9b971ac",
   "metadata": {},
   "source": [
    "## DRAWING A CIRCLE ON THE CANVAS - TUVALE DAİRE ÇİZME"
   ]
  },
  {
   "cell_type": "code",
   "execution_count": 3,
   "id": "d4f68c0b-66ec-40d5-9215-79c5b4179bb6",
   "metadata": {},
   "outputs": [
    {
     "data": {
      "text/plain": [
       "array([[[255, 255, 255],\n",
       "        [255, 255, 255],\n",
       "        [255, 255, 255],\n",
       "        ...,\n",
       "        [255, 255, 255],\n",
       "        [255, 255, 255],\n",
       "        [255, 255, 255]],\n",
       "\n",
       "       [[255, 255, 255],\n",
       "        [255, 255, 255],\n",
       "        [255, 255, 255],\n",
       "        ...,\n",
       "        [255, 255, 255],\n",
       "        [255, 255, 255],\n",
       "        [255, 255, 255]],\n",
       "\n",
       "       [[255, 255, 255],\n",
       "        [255, 255, 255],\n",
       "        [255, 255, 255],\n",
       "        ...,\n",
       "        [255, 255, 255],\n",
       "        [255, 255, 255],\n",
       "        [255, 255, 255]],\n",
       "\n",
       "       ...,\n",
       "\n",
       "       [[255, 255, 255],\n",
       "        [255, 255, 255],\n",
       "        [255, 255, 255],\n",
       "        ...,\n",
       "        [255, 255, 255],\n",
       "        [255, 255, 255],\n",
       "        [255, 255, 255]],\n",
       "\n",
       "       [[255, 255, 255],\n",
       "        [255, 255, 255],\n",
       "        [255, 255, 255],\n",
       "        ...,\n",
       "        [255, 255, 255],\n",
       "        [255, 255, 255],\n",
       "        [255, 255, 255]],\n",
       "\n",
       "       [[255, 255, 255],\n",
       "        [255, 255, 255],\n",
       "        [255, 255, 255],\n",
       "        ...,\n",
       "        [255, 255, 255],\n",
       "        [255, 255, 255],\n",
       "        [255, 255, 255]]], dtype=uint8)"
      ]
     },
     "execution_count": 3,
     "metadata": {},
     "output_type": "execute_result"
    }
   ],
   "source": [
    "cv2.circle(canvas, (200, 200), 50, (0, 0, 255), 3)"
   ]
  },
  {
   "cell_type": "markdown",
   "id": "9163af81-7996-4f92-9e21-d7d51897d5b8",
   "metadata": {},
   "source": [
    "## DRAWING A RECTANGLE ON THE CANVAS - TUVALE DİKDÖRTGEN ÇİZME"
   ]
  },
  {
   "cell_type": "code",
   "execution_count": 4,
   "id": "d5dcab90-cc6b-4314-8bea-665530262300",
   "metadata": {},
   "outputs": [
    {
     "data": {
      "text/plain": [
       "array([[[255, 255, 255],\n",
       "        [255, 255, 255],\n",
       "        [255, 255, 255],\n",
       "        ...,\n",
       "        [255, 255, 255],\n",
       "        [255, 255, 255],\n",
       "        [255, 255, 255]],\n",
       "\n",
       "       [[255, 255, 255],\n",
       "        [255, 255, 255],\n",
       "        [255, 255, 255],\n",
       "        ...,\n",
       "        [255, 255, 255],\n",
       "        [255, 255, 255],\n",
       "        [255, 255, 255]],\n",
       "\n",
       "       [[255, 255, 255],\n",
       "        [255, 255, 255],\n",
       "        [255, 255, 255],\n",
       "        ...,\n",
       "        [255, 255, 255],\n",
       "        [255, 255, 255],\n",
       "        [255, 255, 255]],\n",
       "\n",
       "       ...,\n",
       "\n",
       "       [[255, 255, 255],\n",
       "        [255, 255, 255],\n",
       "        [255, 255, 255],\n",
       "        ...,\n",
       "        [255, 255, 255],\n",
       "        [255, 255, 255],\n",
       "        [255, 255, 255]],\n",
       "\n",
       "       [[255, 255, 255],\n",
       "        [255, 255, 255],\n",
       "        [255, 255, 255],\n",
       "        ...,\n",
       "        [255, 255, 255],\n",
       "        [255, 255, 255],\n",
       "        [255, 255, 255]],\n",
       "\n",
       "       [[255, 255, 255],\n",
       "        [255, 255, 255],\n",
       "        [255, 255, 255],\n",
       "        ...,\n",
       "        [255, 255, 255],\n",
       "        [255, 255, 255],\n",
       "        [255, 255, 255]]], dtype=uint8)"
      ]
     },
     "execution_count": 4,
     "metadata": {},
     "output_type": "execute_result"
    }
   ],
   "source": [
    "cv2.rectangle(canvas, (50, 50), (150, 150), (255, 0, 0), 2)"
   ]
  },
  {
   "cell_type": "markdown",
   "id": "44aa3ce3-f44e-45e7-8757-89a018a8865f",
   "metadata": {},
   "source": [
    "## DRAWING LINES ON THE CANVAS - TUVALE ÇİZGİ ÇİZME"
   ]
  },
  {
   "cell_type": "code",
   "execution_count": 5,
   "id": "965b02aa-585b-4211-ac36-9cd526d08d7b",
   "metadata": {},
   "outputs": [
    {
     "data": {
      "text/plain": [
       "array([[[255, 255, 255],\n",
       "        [255, 255, 255],\n",
       "        [255, 255, 255],\n",
       "        ...,\n",
       "        [255, 255, 255],\n",
       "        [255, 255, 255],\n",
       "        [255, 255, 255]],\n",
       "\n",
       "       [[255, 255, 255],\n",
       "        [255, 255, 255],\n",
       "        [255, 255, 255],\n",
       "        ...,\n",
       "        [255, 255, 255],\n",
       "        [255, 255, 255],\n",
       "        [255, 255, 255]],\n",
       "\n",
       "       [[255, 255, 255],\n",
       "        [255, 255, 255],\n",
       "        [255, 255, 255],\n",
       "        ...,\n",
       "        [255, 255, 255],\n",
       "        [255, 255, 255],\n",
       "        [255, 255, 255]],\n",
       "\n",
       "       ...,\n",
       "\n",
       "       [[255, 255, 255],\n",
       "        [255, 255, 255],\n",
       "        [255, 255, 255],\n",
       "        ...,\n",
       "        [255, 255, 255],\n",
       "        [255, 255, 255],\n",
       "        [255, 255, 255]],\n",
       "\n",
       "       [[255, 255, 255],\n",
       "        [255, 255, 255],\n",
       "        [255, 255, 255],\n",
       "        ...,\n",
       "        [255, 255, 255],\n",
       "        [255, 255, 255],\n",
       "        [255, 255, 255]],\n",
       "\n",
       "       [[255, 255, 255],\n",
       "        [255, 255, 255],\n",
       "        [255, 255, 255],\n",
       "        ...,\n",
       "        [255, 255, 255],\n",
       "        [255, 255, 255],\n",
       "        [255, 255, 255]]], dtype=uint8)"
      ]
     },
     "execution_count": 5,
     "metadata": {},
     "output_type": "execute_result"
    }
   ],
   "source": [
    "cv2.line(canvas, (300, 50), (350, 100), (0, 255, 0), 4)"
   ]
  },
  {
   "cell_type": "markdown",
   "id": "7221fbd8-d683-421a-8924-a30561f17306",
   "metadata": {},
   "source": [
    "## DRAWING AN ELLIPSE ON THE CANVAS - TUVALE ELİPS ÇİZME"
   ]
  },
  {
   "cell_type": "code",
   "execution_count": 6,
   "id": "967d56b5-b4e0-4bb6-9124-7cbe41b30885",
   "metadata": {},
   "outputs": [
    {
     "data": {
      "text/plain": [
       "array([[[255, 255, 255],\n",
       "        [255, 255, 255],\n",
       "        [255, 255, 255],\n",
       "        ...,\n",
       "        [255, 255, 255],\n",
       "        [255, 255, 255],\n",
       "        [255, 255, 255]],\n",
       "\n",
       "       [[255, 255, 255],\n",
       "        [255, 255, 255],\n",
       "        [255, 255, 255],\n",
       "        ...,\n",
       "        [255, 255, 255],\n",
       "        [255, 255, 255],\n",
       "        [255, 255, 255]],\n",
       "\n",
       "       [[255, 255, 255],\n",
       "        [255, 255, 255],\n",
       "        [255, 255, 255],\n",
       "        ...,\n",
       "        [255, 255, 255],\n",
       "        [255, 255, 255],\n",
       "        [255, 255, 255]],\n",
       "\n",
       "       ...,\n",
       "\n",
       "       [[255, 255, 255],\n",
       "        [255, 255, 255],\n",
       "        [255, 255, 255],\n",
       "        ...,\n",
       "        [255, 255, 255],\n",
       "        [255, 255, 255],\n",
       "        [255, 255, 255]],\n",
       "\n",
       "       [[255, 255, 255],\n",
       "        [255, 255, 255],\n",
       "        [255, 255, 255],\n",
       "        ...,\n",
       "        [255, 255, 255],\n",
       "        [255, 255, 255],\n",
       "        [255, 255, 255]],\n",
       "\n",
       "       [[255, 255, 255],\n",
       "        [255, 255, 255],\n",
       "        [255, 255, 255],\n",
       "        ...,\n",
       "        [255, 255, 255],\n",
       "        [255, 255, 255],\n",
       "        [255, 255, 255]]], dtype=uint8)"
      ]
     },
     "execution_count": 6,
     "metadata": {},
     "output_type": "execute_result"
    }
   ],
   "source": [
    "cv2.ellipse(canvas, (300, 300), (80, 40), 0, 0, 360, (255, 0, 255), 3)"
   ]
  },
  {
   "cell_type": "markdown",
   "id": "45591c9d-6645-4e6b-8242-f3f85a8b577e",
   "metadata": {},
   "source": [
    "## CREATING POLYGONS (PENTAGON SHAPE) - POLİGON OLUŞTURMA (BEŞGEN ŞEKLİ)"
   ]
  },
  {
   "cell_type": "code",
   "execution_count": 7,
   "id": "e643da05-89f3-4def-95a2-c140c6d8e4d5",
   "metadata": {},
   "outputs": [
    {
     "data": {
      "text/plain": [
       "array([[[255, 255, 255],\n",
       "        [255, 255, 255],\n",
       "        [255, 255, 255],\n",
       "        ...,\n",
       "        [255, 255, 255],\n",
       "        [255, 255, 255],\n",
       "        [255, 255, 255]],\n",
       "\n",
       "       [[255, 255, 255],\n",
       "        [255, 255, 255],\n",
       "        [255, 255, 255],\n",
       "        ...,\n",
       "        [255, 255, 255],\n",
       "        [255, 255, 255],\n",
       "        [255, 255, 255]],\n",
       "\n",
       "       [[255, 255, 255],\n",
       "        [255, 255, 255],\n",
       "        [255, 255, 255],\n",
       "        ...,\n",
       "        [255, 255, 255],\n",
       "        [255, 255, 255],\n",
       "        [255, 255, 255]],\n",
       "\n",
       "       ...,\n",
       "\n",
       "       [[255, 255, 255],\n",
       "        [255, 255, 255],\n",
       "        [255, 255, 255],\n",
       "        ...,\n",
       "        [255, 255, 255],\n",
       "        [255, 255, 255],\n",
       "        [255, 255, 255]],\n",
       "\n",
       "       [[255, 255, 255],\n",
       "        [255, 255, 255],\n",
       "        [255, 255, 255],\n",
       "        ...,\n",
       "        [255, 255, 255],\n",
       "        [255, 255, 255],\n",
       "        [255, 255, 255]],\n",
       "\n",
       "       [[255, 255, 255],\n",
       "        [255, 255, 255],\n",
       "        [255, 255, 255],\n",
       "        ...,\n",
       "        [255, 255, 255],\n",
       "        [255, 255, 255],\n",
       "        [255, 255, 255]]], dtype=uint8)"
      ]
     },
     "execution_count": 7,
     "metadata": {},
     "output_type": "execute_result"
    }
   ],
   "source": [
    "points = np.array([[200, 50], [250, 100], [225, 150], [175, 150], [150, 100]], np.int32)\n",
    "points = points.reshape((-1, 1, 2))\n",
    "cv2.polylines(canvas, [points], True, (0, 255, 255), 2)"
   ]
  },
  {
   "cell_type": "markdown",
   "id": "e35f54ba-8b63-4086-b615-fc8c1da174b5",
   "metadata": {},
   "source": [
    "## PROCESS OF SHOWING THE CANVAS - TUVALİ GÖSTERME İŞLEMİ"
   ]
  },
  {
   "cell_type": "code",
   "execution_count": 8,
   "id": "3825d99d-53fa-4e25-8f5d-dcafb607b594",
   "metadata": {},
   "outputs": [],
   "source": [
    "cv2.imshow(\"Shapes\", canvas)\n",
    "\n",
    "while True:\n",
    "    if cv2.waitKey(1) & 0xFF == ord('q'):\n",
    "        break\n",
    "        \n",
    "cv2.destroyAllWindows()"
   ]
  },
  {
   "cell_type": "markdown",
   "id": "dc6ada76-fb32-4270-9bfb-f5a11f1800d4",
   "metadata": {},
   "source": [
    "## IDENTIFYING SHAPES IN IMAGES - GÖRSELDEKİ ŞEKİLLERİ BELİRLEME"
   ]
  },
  {
   "cell_type": "code",
   "execution_count": 9,
   "id": "026a0f6b-08b7-43ab-aace-80591bf7a7f0",
   "metadata": {},
   "outputs": [],
   "source": [
    "image = cv2.imread(\"C:\\\\Users\\\\Sena\\\\Downloads\\\\gorsel.jpeg\") "
   ]
  },
  {
   "cell_type": "code",
   "execution_count": 10,
   "id": "c65d1365-e444-405e-a612-f9f6d7a3b588",
   "metadata": {},
   "outputs": [
    {
     "data": {
      "text/plain": [
       "-1"
      ]
     },
     "execution_count": 10,
     "metadata": {},
     "output_type": "execute_result"
    }
   ],
   "source": [
    "cv2.namedWindow(\"image\",cv2.WINDOW_NORMAL)\n",
    "cv2.imshow(\"image\", image)\n",
    "cv2.waitKey(0)"
   ]
  },
  {
   "cell_type": "code",
   "execution_count": 11,
   "id": "8a89033b-2e9e-4ab8-9b60-aafdce47c2c3",
   "metadata": {},
   "outputs": [
    {
     "data": {
      "text/plain": [
       "-1"
      ]
     },
     "execution_count": 11,
     "metadata": {},
     "output_type": "execute_result"
    }
   ],
   "source": [
    "gray = cv2.cvtColor(image, cv2.COLOR_BGR2GRAY)\n",
    "cv2.namedWindow(\"gray\",cv2.WINDOW_NORMAL)\n",
    "cv2.imshow(\"gray\",gray)\n",
    "cv2.waitKey(0)"
   ]
  },
  {
   "cell_type": "markdown",
   "id": "ebcc1022-a728-4f21-9c99-47fcfc9f7560",
   "metadata": {},
   "source": [
    "## DETECTING EDGES - KENARLARI TESPİT ETME"
   ]
  },
  {
   "cell_type": "code",
   "execution_count": 12,
   "id": "41d1fcc1-8961-4549-b266-4f062d2678e2",
   "metadata": {},
   "outputs": [
    {
     "data": {
      "text/plain": [
       "-1"
      ]
     },
     "execution_count": 12,
     "metadata": {},
     "output_type": "execute_result"
    }
   ],
   "source": [
    "blurred = cv2.GaussianBlur(gray, (5, 5), 0)\n",
    "\n",
    "edges = cv2.Canny(blurred, 50, 150)\n",
    "cv2.namedWindow(\"blurred\",cv2.WINDOW_NORMAL)\n",
    "cv2.imshow(\"blurred\", edges)\n",
    "cv2.waitKey(0)"
   ]
  },
  {
   "cell_type": "markdown",
   "id": "1f52e2fb-2920-484b-8a60-0eaf5f113c28",
   "metadata": {},
   "source": [
    "## FINDING CONTOURS - KONTURLARI BULMA"
   ]
  },
  {
   "cell_type": "code",
   "execution_count": 13,
   "id": "6be05682-be3b-49a0-88cb-af776c8e528e",
   "metadata": {},
   "outputs": [],
   "source": [
    "contours, _ = cv2.findContours(edges, cv2.RETR_TREE, cv2.CHAIN_APPROX_SIMPLE)"
   ]
  },
  {
   "cell_type": "code",
   "execution_count": 14,
   "id": "be6b0f3c-2214-4926-8abc-5a98ae3a01d8",
   "metadata": {},
   "outputs": [],
   "source": [
    "for contour in contours:\n",
    "    perimeter = cv2.arcLength(contour, True)\n",
    "    approx = cv2.approxPolyDP(contour, 0.04 * perimeter, True)\n",
    "\n",
    "    M = cv2.moments(contour)\n",
    "    if M['m00'] != 0:\n",
    "        cx = int(M['m10'] / M['m00'])\n",
    "        cy = int(M['m01'] / M['m00'])\n",
    "    else:\n",
    "        cx, cy = 0, 0\n",
    "\n",
    "    if len(approx) == 3:\n",
    "        shapeName = \"Triangle\"\n",
    "    elif len(approx) == 4:\n",
    "        (x, y, w, h) = cv2.boundingRect(approx)\n",
    "        aspectRatio = float(w) / h\n",
    "        shapeName = \"Square\" if 0.95 <= aspectRatio <= 1.05 else \"Rectangle\"\n",
    "    elif len(approx) > 4:\n",
    "        shapeName = \"Circle\"\n",
    "    else:\n",
    "        shapeName = \"Unknown\"\n",
    "\n",
    "    cv2.drawContours(image, [approx], -1, (0, 255, 0), 3)\n",
    "    cv2.putText(image, shapeName, (cx - 50, cy - 10), cv2.FONT_HERSHEY_SIMPLEX, 0.6, (255, 255, 255), 2)\n",
    "\n",
    "cv2.namedWindow(\"Shape Detection\",cv2.WINDOW_NORMAL)\n",
    "cv2.imshow(\"Shape Detection\", image)\n",
    "cv2.waitKey(0)\n",
    "cv2.destroyAllWindows()"
   ]
  }
 ],
 "metadata": {
  "kernelspec": {
   "display_name": "Python 3 (ipykernel)",
   "language": "python",
   "name": "python3"
  },
  "language_info": {
   "codemirror_mode": {
    "name": "ipython",
    "version": 3
   },
   "file_extension": ".py",
   "mimetype": "text/x-python",
   "name": "python",
   "nbconvert_exporter": "python",
   "pygments_lexer": "ipython3",
   "version": "3.12.3"
  }
 },
 "nbformat": 4,
 "nbformat_minor": 5
}
